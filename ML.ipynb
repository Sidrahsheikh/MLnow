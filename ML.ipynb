{
  "nbformat": 4,
  "nbformat_minor": 0,
  "metadata": {
    "colab": {
      "name": "ML.ipynb",
      "provenance": [],
      "authorship_tag": "ABX9TyMhPmySYnoO3SVcdvAVLeIi",
      "include_colab_link": true
    },
    "kernelspec": {
      "name": "python3",
      "display_name": "Python 3"
    },
    "language_info": {
      "name": "python"
    }
  },
  "cells": [
    {
      "cell_type": "markdown",
      "metadata": {
        "id": "view-in-github",
        "colab_type": "text"
      },
      "source": [
        "<a href=\"https://colab.research.google.com/github/Sidrahsheikh/MLnow/blob/main/ML.ipynb\" target=\"_parent\"><img src=\"https://colab.research.google.com/assets/colab-badge.svg\" alt=\"Open In Colab\"/></a>"
      ]
    },
    {
      "cell_type": "code",
      "metadata": {
        "id": "S7nbo5NiWeYf",
        "colab": {
          "base_uri": "https://localhost:8080/"
        },
        "outputId": "8cf30e9b-912c-41b5-a13e-12032c7cf17a"
      },
      "source": [
        "from google.colab import drive\n",
        "drive.mount('/content/drive')"
      ],
      "execution_count": null,
      "outputs": [
        {
          "output_type": "stream",
          "text": [
            "Mounted at /content/drive\n"
          ],
          "name": "stdout"
        }
      ]
    },
    {
      "cell_type": "markdown",
      "metadata": {
        "id": "FagG3ju4GE5a"
      },
      "source": [
        "  Date created: May 23,2021\n",
        "  \n",
        "  Author:[Sidra Sheikh]{https://github.com/Sidrahsheikh}\n",
        "\n"
      ]
    },
    {
      "cell_type": "markdown",
      "metadata": {
        "id": "cmriDomUHgJS"
      },
      "source": [
        "PROBLEM STATEMENT\n",
        "\n",
        "Teach model to predict on the following equation\n",
        "\n",
        "Equation :y=10x"
      ]
    },
    {
      "cell_type": "markdown",
      "metadata": {
        "id": "vdDsivhdH2nZ"
      },
      "source": [
        "DATA CREATION\n",
        "\n",
        "Since the equation we want to teach our model is y=10x,we need the following data set\n",
        "\n",
        "x=[0,1,2,3,4......]\n",
        "y=[1,10,20,30.....]"
      ]
    },
    {
      "cell_type": "code",
      "metadata": {
        "colab": {
          "base_uri": "https://localhost:8080/"
        },
        "id": "raVDuWvrIR0T",
        "outputId": "6277e5bf-b423-41fd-8765-a46dc379c894"
      },
      "source": [
        "x=[i for i in range(20+1)]#list comprehension\n",
        "print(x)"
      ],
      "execution_count": null,
      "outputs": [
        {
          "output_type": "stream",
          "text": [
            "[0, 1, 2, 3, 4, 5, 6, 7, 8, 9, 10, 11, 12, 13, 14, 15, 16, 17, 18, 19, 20]\n"
          ],
          "name": "stdout"
        }
      ]
    },
    {
      "cell_type": "code",
      "metadata": {
        "id": "kD8b76VybLJe",
        "colab": {
          "base_uri": "https://localhost:8080/"
        },
        "outputId": "edd7cff2-0ce2-4c99-a128-430362936ac0"
      },
      "source": [
        "y=[i for i in range(10*20+1) if i%10==0]#list comp\n",
        "print(y)"
      ],
      "execution_count": null,
      "outputs": [
        {
          "output_type": "stream",
          "text": [
            "[0, 10, 20, 30, 40, 50, 60, 70, 80, 90, 100, 110, 120, 130, 140, 150, 160, 170, 180, 190, 200]\n"
          ],
          "name": "stdout"
        }
      ]
    },
    {
      "cell_type": "markdown",
      "metadata": {
        "id": "mz1_nKvEI-DS"
      },
      "source": [
        "APPROACH 1\n",
        "\n",
        "non ML\n",
        "\n",
        "Defineing a function for the equation y=10x\n"
      ]
    },
    {
      "cell_type": "code",
      "metadata": {
        "colab": {
          "base_uri": "https://localhost:8080/"
        },
        "id": "e_zscCHJJN7p",
        "outputId": "b8b32359-dab9-491a-ffbf-3161b6d0e026"
      },
      "source": [
        "def tableoften(x):\n",
        "  y=10*x\n",
        "  return y\n",
        "\n",
        "for value in x:\n",
        "  print(tableoften(value))"
      ],
      "execution_count": null,
      "outputs": [
        {
          "output_type": "stream",
          "text": [
            "0\n",
            "10\n",
            "20\n",
            "30\n",
            "40\n",
            "50\n",
            "60\n",
            "70\n",
            "80\n",
            "90\n",
            "100\n",
            "110\n",
            "120\n",
            "130\n",
            "140\n",
            "150\n",
            "160\n",
            "170\n",
            "180\n",
            "190\n",
            "200\n"
          ],
          "name": "stdout"
        }
      ]
    },
    {
      "cell_type": "markdown",
      "metadata": {
        "id": "OrdXLWVnJj8i"
      },
      "source": [
        "APPROACH 2\n",
        "\n",
        "ML approach\n",
        "\n",
        "We are going to split the data in our case the list x and  y int four parts,\n",
        "\n",
        "1)xTrain for training data\n",
        "\n",
        "2)yTrain for training labels\n",
        "\n",
        "3)xTest for testing data\n",
        "\n",
        "4)yTest for testing labels\n"
      ]
    },
    {
      "cell_type": "code",
      "metadata": {
        "colab": {
          "base_uri": "https://localhost:8080/"
        },
        "id": "k6PSKIe9Kcfv",
        "outputId": "59f225d2-a4f6-445b-b68c-38579ee7d03e"
      },
      "source": [
        "print(f'This is x:{x}')\n",
        "print(f'This is y:{y}')"
      ],
      "execution_count": null,
      "outputs": [
        {
          "output_type": "stream",
          "text": [
            "This is x:[0, 1, 2, 3, 4, 5, 6, 7, 8, 9, 10, 11, 12, 13, 14, 15, 16, 17, 18, 19, 20]\n",
            "This is y:[0, 10, 20, 30, 40, 50, 60, 70, 80, 90, 100, 110, 120, 130, 140, 150, 160, 170, 180, 190, 200]\n"
          ],
          "name": "stdout"
        }
      ]
    },
    {
      "cell_type": "code",
      "metadata": {
        "colab": {
          "base_uri": "https://localhost:8080/"
        },
        "id": "mKSCOVZrKsfu",
        "outputId": "69a1a460-aaee-4244-a1bd-3fe8ea5528f5"
      },
      "source": [
        "xTrain =x[:-5]#Training Data\n",
        "yTrain =y[:-5]#Training Data\n",
        "\n",
        "xTest =x[-5:]#Testing Data\n",
        "yTest =y[-5:]#Testing Data\n",
        "\n",
        "print(f'''\n",
        "Training Data:\n",
        "xTrain :{xTrain}\n",
        "yTrain :{yTrain}\n",
        "\n",
        "Testing Data:\n",
        "\n",
        "xTest :{xTest}\n",
        "yTest :{yTest}\n",
        "''')"
      ],
      "execution_count": null,
      "outputs": [
        {
          "output_type": "stream",
          "text": [
            "\n",
            "Training Data:\n",
            "xTrain :[0, 1, 2, 3, 4, 5, 6, 7, 8, 9, 10, 11, 12, 13, 14, 15]\n",
            "yTrain :[0, 10, 20, 30, 40, 50, 60, 70, 80, 90, 100, 110, 120, 130, 140, 150]\n",
            "\n",
            "Testing Data:\n",
            "\n",
            "xTest :[16, 17, 18, 19, 20]\n",
            "yTest :[160, 170, 180, 190, 200]\n",
            "\n"
          ],
          "name": "stdout"
        }
      ]
    },
    {
      "cell_type": "code",
      "metadata": {
        "id": "VG4EBPa8LyIo"
      },
      "source": [
        "#import the necessary libraries /framework\n",
        "import tensorflow as tf\n",
        "from tensorflow import keras"
      ],
      "execution_count": 2,
      "outputs": []
    },
    {
      "cell_type": "code",
      "metadata": {
        "id": "-j5akKXqM88r"
      },
      "source": [
        "#perceptron model \n",
        "model = tf.keras.Sequential([tf.keras.layers.Dense(units=1, input_shape=[1])])\n",
        "#unit here denotes the number of neuron and input_shape denotes the input data that you provide your nation here"
      ],
      "execution_count": 5,
      "outputs": []
    },
    {
      "cell_type": "code",
      "metadata": {
        "id": "26HQbr2K2-O6"
      },
      "source": [
        "model.compile(optimizer='adam',loss='mae')\n"
      ],
      "execution_count": 14,
      "outputs": []
    },
    {
      "cell_type": "code",
      "metadata": {
        "colab": {
          "base_uri": "https://localhost:8080/",
          "height": 180
        },
        "id": "NSNWwHso5Nng",
        "outputId": "3bee2b4a-8db5-4e0d-fc30-97ba032dcb2b"
      },
      "source": [
        "numEpoch = 5000#training it for 5000 times\n",
        "model.fit(x=xTrain, y=yTrain ,validation_data=(xTest , yTest), epochs=numEpoch)"
      ],
      "execution_count": 20,
      "outputs": [
        {
          "output_type": "error",
          "ename": "NameError",
          "evalue": "ignored",
          "traceback": [
            "\u001b[0;31m---------------------------------------------------------------------------\u001b[0m",
            "\u001b[0;31mNameError\u001b[0m                                 Traceback (most recent call last)",
            "\u001b[0;32m<ipython-input-20-534fdda357f2>\u001b[0m in \u001b[0;36m<module>\u001b[0;34m()\u001b[0m\n\u001b[1;32m      1\u001b[0m \u001b[0mnumEpoch\u001b[0m \u001b[0;34m=\u001b[0m \u001b[0;36m5000\u001b[0m\u001b[0;31m#training it for 5000 times\u001b[0m\u001b[0;34m\u001b[0m\u001b[0;34m\u001b[0m\u001b[0m\n\u001b[0;32m----> 2\u001b[0;31m \u001b[0mmodel\u001b[0m\u001b[0;34m.\u001b[0m\u001b[0mfit\u001b[0m\u001b[0;34m(\u001b[0m\u001b[0mx\u001b[0m\u001b[0;34m=\u001b[0m\u001b[0mxTrain\u001b[0m\u001b[0;34m,\u001b[0m \u001b[0my\u001b[0m\u001b[0;34m=\u001b[0m\u001b[0myTrain\u001b[0m \u001b[0;34m,\u001b[0m\u001b[0mvalidation_data\u001b[0m\u001b[0;34m=\u001b[0m\u001b[0;34m(\u001b[0m\u001b[0mxTest\u001b[0m \u001b[0;34m,\u001b[0m \u001b[0myTest\u001b[0m\u001b[0;34m)\u001b[0m\u001b[0;34m,\u001b[0m \u001b[0mepochs\u001b[0m\u001b[0;34m=\u001b[0m\u001b[0mnumEpoch\u001b[0m\u001b[0;34m)\u001b[0m\u001b[0;34m\u001b[0m\u001b[0;34m\u001b[0m\u001b[0m\n\u001b[0m",
            "\u001b[0;31mNameError\u001b[0m: name 'xTrain' is not defined"
          ]
        }
      ]
    }
  ]
}